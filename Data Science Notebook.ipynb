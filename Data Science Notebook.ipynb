{
 "cells": [
  {
   "cell_type": "markdown",
   "id": "e2738ab5",
   "metadata": {},
   "source": [
    "# Data Science Notebook\n"
   ]
  },
  {
   "cell_type": "markdown",
   "id": "7db6a79d",
   "metadata": {},
   "source": [
    "# Introduction\n",
    "\n",
    "Welcome to this Data Science Notebook! In this notebook, we will explore fundamental concepts and tools related to data science. Whether you're a beginner or looking to refresh your knowledge, this notebook aims to provide you with a solid foundation in data science principles.\n",
    "\n",
    "We'll cover a range of topics, including basic arithmetic operations, data manipulation, visualization, and more. Along the way, you'll have the opportunity to run code cells, experiment with different calculations, and gain hands-on experience with Jupyter Notebook.\n",
    "\n",
    "Let's dive in and start our journey into the exciting world of data science!\n"
   ]
  },
  {
   "cell_type": "markdown",
   "id": "819e2673",
   "metadata": {},
   "source": [
    "## list data science languages\n",
    "\n",
    "Python: Python is one of the most popular programming languages for data science. It has a rich ecosystem of libraries and frameworks, such as NumPy, pandas, Matplotlib, Seaborn, scikit-learn, TensorFlow, and PyTorch, that make data manipulation, analysis, and machine learning tasks efficient and convenient.\n",
    "\n",
    "R: R is specifically designed for statistical analysis and data visualization. It has a wide array of packages for data manipulation (dplyr, tidyr), statistical modeling (lm, glm), and visualization (ggplot2).\n",
    "\n",
    "SQL: SQL (Structured Query Language) is essential for working with databases and performing data querying, filtering, and aggregation tasks. It's used to extract, transform, and analyze structured data.\n",
    "\n",
    "Julia: Julia is a high-level, high-performance programming language for technical computing. It's known for its speed and can be used for numerical and scientific computing tasks.\n",
    "\n",
    "Java: Java is commonly used in data engineering tasks, such as building data pipelines and processing large datasets. Libraries like Apache Spark and Hadoop allow data scientists to perform distributed computing."
   ]
  },
  {
   "cell_type": "markdown",
   "id": "685adb4b",
   "metadata": {},
   "source": [
    "## list data science libraries\n",
    "\n",
    "Python:\n",
    "\n",
    "NumPy: For numerical operations and array manipulation.\n",
    "pandas: For data manipulation and analysis, providing data structures like DataFrame.\n",
    "Matplotlib: For 2D plotting and visualization.\n",
    "Seaborn: A higher-level plotting library built on top of Matplotlib.\n",
    "scikit-learn: For machine learning algorithms and model building.\n",
    "TensorFlow: An open-source deep learning library.\n",
    "Keras: A high-level neural networks API (often used with TensorFlow).\n",
    "PyTorch: Another popular deep learning library.\n",
    "statsmodels: For statistical modeling and hypothesis testing.\n",
    "NLTK (Natural Language Toolkit): For working with human language data.\n",
    "spaCy: A library for natural language processing and text analysis.\n",
    "\n",
    "R:\n",
    "\n",
    "dplyr: For data manipulation using a grammar of data manipulation.\n",
    "ggplot2: For creating complex and customized data visualizations.\n",
    "tidyr: For tidying and reshaping data.\n",
    "caret: Provides functions for training and evaluating machine learning models.\n",
    "\n",
    "Other Languages:\n",
    "\n",
    "SQLAlchemy: A SQL toolkit and Object-Relational Mapping (ORM) library for Python.\n",
    "Apache Spark MLlib: For scalable machine learning on big data.\n",
    "JuliaDB: A package for working with large datasets in Julia."
   ]
  },
  {
   "cell_type": "markdown",
   "id": "fe07228e",
   "metadata": {},
   "source": [
    "| Tool                   | Purpose                                              | Language        |\n",
    "|------------------------|------------------------------------------------------|-----------------|\n",
    "| NumPy                  | Numerical operations and array manipulation         | Python          |\n",
    "| pandas                 | Data manipulation and analysis                      | Python          |\n",
    "| Matplotlib             | 2D plotting and visualization                       | Python          |\n",
    "| scikit-learn           | Machine learning algorithms and model building      | Python          |\n",
    "| TensorFlow             | Deep learning library                               | Python          |\n",
    "| R                      | Statistical analysis and data visualization         | R               |\n",
    "| dplyr                  | Data manipulation using a grammar of data manipulation | R             |\n",
    "| ggplot2                | Complex and customized data visualizations          | R               |\n",
    "| caret                  | Training and evaluating machine learning models     | R               |\n",
    "| SQL                    | Querying and manipulating databases                 | SQL             |\n",
    "| Apache Spark MLlib     | Scalable machine learning on big data               | Scala/Python    |\n",
    "| JuliaDB                | Working with large datasets in Julia                | Julia           |\n",
    "| Weka                   | Machine learning algorithms for data mining tasks   | Java            |\n"
   ]
  },
  {
   "cell_type": "markdown",
   "id": "d1f88af0",
   "metadata": {},
   "source": [
    "## Arithmetic Expressions\n",
    "\n",
    "Arithmetic expressions are mathematical expressions that involve basic arithmetic operations such as addition, subtraction, multiplication, and division. They are commonly used in programming to perform calculations.\n",
    "\n",
    "Here are some examples of arithmetic expressions:\n",
    "\n",
    "1. Addition: `5 + 3` equals 8\n",
    "2. Subtraction: `10 - 4` equals 6\n",
    "3. Multiplication: `2 * 7` equals 14\n",
    "4. Division: `15 / 3` equals 5\n",
    "\n",
    "You can also use parentheses to control the order of operations:\n",
    "\n",
    "- `(4 + 2) * 3` equals 18 (first add 4 and 2, then multiply by 3)\n",
    "- `8 / (2 + 2)` equals 2 (first add 2 and 2, then divide 8 by the result)\n",
    "\n",
    "Keep in mind that arithmetic expressions follow the usual rules of mathematics, including operator precedence.\n",
    "\n",
    "In programming languages like Python, you can use these arithmetic expressions within variables, functions, and more complex calculations.\n",
    "\n",
    "Try experimenting with different arithmetic expressions to gain a better understanding of how they work!\n"
   ]
  },
  {
   "cell_type": "code",
   "execution_count": 2,
   "id": "639c2741",
   "metadata": {},
   "outputs": [
    {
     "name": "stdout",
     "output_type": "stream",
     "text": [
      "5 * 3 = 15\n",
      "10 + 7 = 17\n"
     ]
    }
   ],
   "source": [
    "# Multiplication\n",
    "x = 5\n",
    "y = 3\n",
    "result_multiply = x * y\n",
    "print(f\"{x} * {y} = {result_multiply}\")\n",
    "\n",
    "# Addition\n",
    "a = 10\n",
    "b = 7\n",
    "result_addition = a + b\n",
    "print(f\"{a} + {b} = {result_addition}\")\n"
   ]
  },
  {
   "cell_type": "code",
   "execution_count": 3,
   "id": "3fdc0853",
   "metadata": {},
   "outputs": [
    {
     "name": "stdout",
     "output_type": "stream",
     "text": [
      "150 minutes is equal to 2 hours and 30 minutes\n"
     ]
    }
   ],
   "source": [
    "# Convert minutes to hours\n",
    "minutes = 150\n",
    "hours = minutes / 60\n",
    "remainder_minutes = minutes % 60\n",
    "\n",
    "print(f\"{minutes} minutes is equal to {int(hours)} hours and {remainder_minutes} minutes\")\n"
   ]
  },
  {
   "cell_type": "markdown",
   "id": "bedcc4be",
   "metadata": {},
   "source": [
    "## Objectives\n",
    "\n",
    "**Author: abdelrahman mohamed shafik**\n",
    "\n",
    "In this notebook, we will cover the following objectives:\n",
    "\n",
    "1. Understand basic arithmetic expressions and operators.\n",
    "2. Learn how to perform multiplication and addition operations in Python.\n",
    "3. Explore the concept of converting minutes to hours using Python.\n",
    "4. Gain familiarity with using Markdown cells for documentation.\n",
    "5. Practice running code cells and viewing output.\n",
    "6. Experiment with modifying variables to perform different calculations.\n",
    "\n",
    "By the end of this notebook, you should have a solid understanding of basic arithmetic operations and how to use Python for performing calculations and conversions.\n"
   ]
  },
  {
   "cell_type": "markdown",
   "id": "61dc0fd7",
   "metadata": {},
   "source": [
    "## Author Details\n",
    "**Author: Abdelrahman mohamed shafik**\n"
   ]
  }
 ],
 "metadata": {
  "celltoolbar": "Raw Cell Format",
  "kernelspec": {
   "display_name": "Python 3 (ipykernel)",
   "language": "python",
   "name": "python3"
  },
  "language_info": {
   "codemirror_mode": {
    "name": "ipython",
    "version": 3
   },
   "file_extension": ".py",
   "mimetype": "text/x-python",
   "name": "python",
   "nbconvert_exporter": "python",
   "pygments_lexer": "ipython3",
   "version": "3.9.13"
  }
 },
 "nbformat": 4,
 "nbformat_minor": 5
}
